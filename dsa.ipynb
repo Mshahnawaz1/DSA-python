{
 "cells": [
  {
   "cell_type": "code",
   "execution_count": null,
   "id": "7cd3973d",
   "metadata": {},
   "outputs": [],
   "source": [
    "def binary_search(arr, target):\n",
    "    left, right = 0, len(arr)-1\n",
    "    \n",
    "    while(left < right):\n",
    "        m = (right - left) // 2\n",
    "        mid = arr[m]\n",
    "        print(m)\n",
    "\n",
    "        if mid == target:\n",
    "            return mid\n",
    "        if target > mid:\n",
    "            left = m\n",
    "        else:\n",
    "            right = m\n",
    "    return \"not found\"\n"
   ]
  },
  {
   "cell_type": "code",
   "execution_count": 21,
   "id": "b2b1fa43",
   "metadata": {},
   "outputs": [
    {
     "name": "stdout",
     "output_type": "stream",
     "text": [
      "8\n"
     ]
    },
    {
     "ename": "KeyboardInterrupt",
     "evalue": "",
     "output_type": "error",
     "traceback": [
      "\u001b[31m---------------------------------------------------------------------------\u001b[39m",
      "\u001b[31mKeyboardInterrupt\u001b[39m                         Traceback (most recent call last)",
      "\u001b[36mCell\u001b[39m\u001b[36m \u001b[39m\u001b[32mIn[21]\u001b[39m\u001b[32m, line 6\u001b[39m\n\u001b[32m      3\u001b[39m target = \u001b[32m50\u001b[39m\n\u001b[32m      5\u001b[39m \u001b[38;5;28mprint\u001b[39m(\u001b[38;5;28mlen\u001b[39m(arr))\n\u001b[32m----> \u001b[39m\u001b[32m6\u001b[39m (\u001b[43mbinary_search\u001b[49m\u001b[43m(\u001b[49m\u001b[43marr\u001b[49m\u001b[43m,\u001b[49m\u001b[43m \u001b[49m\u001b[43mtarget\u001b[49m\u001b[43m)\u001b[49m)\n",
      "\u001b[36mCell\u001b[39m\u001b[36m \u001b[39m\u001b[32mIn[14]\u001b[39m\u001b[32m, line 4\u001b[39m, in \u001b[36mbinary_search\u001b[39m\u001b[34m(arr, target)\u001b[39m\n\u001b[32m      1\u001b[39m \u001b[38;5;28;01mdef\u001b[39;00m\u001b[38;5;250m \u001b[39m\u001b[34mbinary_search\u001b[39m(arr, target):\n\u001b[32m      2\u001b[39m     left, right = \u001b[32m0\u001b[39m, \u001b[38;5;28mlen\u001b[39m(arr)-\u001b[32m1\u001b[39m\n\u001b[32m----> \u001b[39m\u001b[32m4\u001b[39m     \u001b[38;5;28;01mwhile\u001b[39;00m(left < right):\n\u001b[32m      5\u001b[39m         m = (right - left) // \u001b[32m2\u001b[39m\n\u001b[32m      6\u001b[39m         mid = arr[m]\n",
      "\u001b[31mKeyboardInterrupt\u001b[39m: "
     ]
    }
   ],
   "source": [
    "import time\n",
    "arr = [1,2,3,4,5,7,8,50]\n",
    "target = 50\n",
    "\n",
    "print(len(arr))\n",
    "(binary_search(arr, target))"
   ]
  },
  {
   "cell_type": "code",
   "execution_count": 1,
   "id": "9168a6a8",
   "metadata": {},
   "outputs": [
    {
     "data": {
      "text/plain": [
       "[3, 5, 6, 3, 5, 3]"
      ]
     },
     "execution_count": 1,
     "metadata": {},
     "output_type": "execute_result"
    }
   ],
   "source": [
    "a = [3,5,6]\n",
    "b = [3,5,3]\n",
    "a+b"
   ]
  },
  {
   "cell_type": "code",
   "execution_count": null,
   "id": "5e34acad",
   "metadata": {},
   "outputs": [],
   "source": []
  }
 ],
 "metadata": {
  "kernelspec": {
   "display_name": "Python 3",
   "language": "python",
   "name": "python3"
  },
  "language_info": {
   "codemirror_mode": {
    "name": "ipython",
    "version": 3
   },
   "file_extension": ".py",
   "mimetype": "text/x-python",
   "name": "python",
   "nbconvert_exporter": "python",
   "pygments_lexer": "ipython3",
   "version": "3.11.4"
  }
 },
 "nbformat": 4,
 "nbformat_minor": 5
}
